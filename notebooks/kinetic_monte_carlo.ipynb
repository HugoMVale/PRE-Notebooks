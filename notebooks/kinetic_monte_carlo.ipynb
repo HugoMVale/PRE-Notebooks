{
 "cells": [
  {
   "cell_type": "markdown",
   "metadata": {
    "vscode": {
     "languageId": "plaintext"
    }
   },
   "source": [
    "# Kinetic Monte Carlo\n",
    "\n",
    "## Introduction\n",
    "\n",
    "Deterministic models, which rely on differential balances for polymer distributions and molecular species, are foundational in polymer reaction engineering. However, deterministic methods can become impractical or even unfeasible in certain situations. For example, they are generally limited to systems that can be described using one or, at most, two internal coordinates (e.g., chain length) because solving multidimensional population balances is mathematically difficult. Another significant challenge arises in systems undergoing gelation, where the moments of the chain length distribution diverge at the gel point, making it impossible to simulate the polymer structure beyond this stage.\n",
    "\n",
    "Kinetic Monte Carlo (KMC) provides an alternative approach to simulating chemical reactions based on a stochastic interpretation. While stochastic methods have their own limitations and can be computationally intensive, they scale significantly better than deterministic methods for problems involving a high number of internal coordinates. This feature makes KMC a valuable tool for describing the microstructure of complex polymers.\n",
    "\n",
    "KMC is usually implemented using [Gillespie's algorithm], which consists of the following key steps:\n",
    "\n",
    "1. **Initialize** the system state based on the initial composition, simulation volume, and other relevant parameters.  \n",
    "2. **Evaluate** the rates of all possible reactions.  \n",
    "3. **Select** a reaction based on its probability of occurrence and update the affected species.  \n",
    "4. **Advance** time according to the calculated time step.  \n",
    "5. **(Optional) Store** the intermediate system state for later analysis.  \n",
    "6. **Repeat** from step 2 until the simulation reaches the predefined stopping condition.  \n",
    "\n",
    "To illustrate this algorithm, let’s consider a classical series-parallel reaction scheme:\n",
    "\n",
    "\\begin{align*}\n",
    "A + B &\\xrightarrow{k_1} C \\\\\n",
    "C + B &\\xrightarrow{k_2} D \\\\\n",
    "D + B &\\xrightarrow{k_3} E\n",
    "\\end{align*}\n",
    "\n",
    "Each reaction is assumed to be elementary, leading to the following reaction rate laws:\n",
    "\n",
    "\\begin{align}\n",
    "r_1 &= k_1 C_A C_B \\\\\n",
    "r_2 &= k_2 C_C C_B \\\\\n",
    "r_3 &= k_3 C_D C_B\n",
    "\\end{align}\n",
    "\n",
    "where $k_i$ denote the rate coefficients and $C_i$ the species molar concentrations.\n",
    "\n",
    "**Step 1** \n",
    "\n",
    "In the first step, we define the system size, either by specifying its initial volume $V_0$ or the absolute number of molecules of a given species $X_{i0}$. Here, we suppose the system initially consists only of species $A$ and $B$ with molar concentrations $C_{A0}$ and $C_{B0}$. If we set $X_{A0}$, the system volume and the number of $B$ molecules can be determined as follows:\n",
    "\n",
    "\\begin{equation}\n",
    "V_0 = \\frac{X_{A0}}{C_{A0} N_A}\n",
    "\\end{equation}\n",
    "\n",
    "\\begin{equation}\n",
    "X_{B0} = X_{A0} \\frac{C_{B0}}{C_{A0}}\n",
    "\\end{equation}\n",
    "\n",
    "where $N_A$ is Avogadro's number.\n",
    "\n",
    "**Step 2**\n",
    "\n",
    "The KMC method relies on reaction propensities $R_i$, which are related to the conventional reaction rates by:\n",
    "\n",
    "\\begin{equation}\n",
    "R_i = r_i N_A V\n",
    "\\end{equation}\n",
    "\n",
    "Note that while $r_i$ is usually expressed in units of $\\mathrm{mol\\;L^{-1}\\;s^{-1}}$, $R_i$ has units of frequency. In other words, the propensity describes the absolute number of events per unit time (not moles of events per unit volume and time).  \n",
    "\n",
    "Since the system state is defined in terms of $X_i$, it is convenient to express propensities in terms of these quantities. For the first reaction, we can express the propensity as follows:  \n",
    "\n",
    "\\begin{equation}\n",
    "R_1 = k_1 \\left(\\frac{X_A}{N_A V}\\right) \\left(\\frac{X_B}{N_A V}\\right) N_A V = \\left(\\frac{k_1}{N_A V} \\right) X_A X_B\n",
    "\\end{equation}\n",
    "\n",
    "As we can see, the propensity expression maintains the pattern of the original rate law ($C_i \\rightarrow X_i$), but with a rescaled rate coefficient. The scaling factor depends on the order of the reaction; for a first-order reaction, it is unity. Since the other two reactions are also bimolecular, we have:\n",
    "\n",
    "\\begin{equation}\n",
    "R_2 = \\left(\\frac{k_2}{N_A V} \\right) X_C X_B\n",
    "\\end{equation}\n",
    "\n",
    "\\begin{equation}\n",
    "R_3 = \\left(\\frac{k_3}{N_A V} \\right) X_D X_B\n",
    "\\end{equation}\n",
    "\n",
    "**Step 3**\n",
    "\n",
    "In each KMC iteration, a single reaction is selected to occur. The probability that a reaction is chosen is directly proportional to its propensity. Computationally, this is achieved by creating a vector with the cumulative sum of the propensities:\n",
    "\n",
    "\\begin{equation}\n",
    "Q_j = \\sum_{i=1}^j R_i\n",
    "\\end{equation}\n",
    "\n",
    "In our case this would correspond to:\n",
    "\n",
    "\\begin{equation}\n",
    "\\mathbf{Q} = [R_1, R_1+R_2, R_1+R_2+R_3]  \n",
    "\\end{equation}\n",
    "\n",
    "We then generate a uniform random number $a$ in the interval $(0, \\sum_i R_i]$ and find the first element of $\\mathbf{Q}$ that exceeds it. For instance if $R_1<a<R_1+R_2$, then reaction 2 is selected. The procedure is illustrated below.\n",
    "\n",
    "<img src=\"./mc_figure.svg\" alt=\"KMC-Step3\" height=\"250px\">\n",
    "\n",
    "**Step 4**\n",
    "\n",
    "The time between successive reaction events follows an [exponential distribution]. Consequently, the elapsed time can be calculated using the following expression:\n",
    "\n",
    "\\begin{equation}\n",
    "\\tau = \\frac{1}{\\sum_i R_i} \\ln{\\left(\\frac{1}{b}\\right)}\n",
    "\\end{equation}\n",
    "\n",
    "where $b$ is a uniform random number in the interval $(0, 1]$. Note that $\\tau$ is inversely proportional to the _sum_ of all propensities, not just the propensity of the reaction selected in the previous step.\n",
    "\n",
    "**Step 5**\n",
    "\n",
    "One is often interested in the system state trajectory, not just the final state. Therefore, state snapshots are commonly saved at predefined time or conversion intervals. Storing every iteration is unnecessary and impractical due to the very large number of iterations and the associated memory requirements. \n",
    "\n",
    "**Step 6**\n",
    "\n",
    "The process repeats iteratively until a predefined stopping condition is met. This condition can be based on factors such as reaching a target simulation time, achieving a specified conversion, or depleting one of the reactants. Once the simulation ends, the collected data can be analyzed to extract insights into reaction kinetics, molecular distributions, and system dynamics.\n",
    "\n",
    "[Gillespie's algorithm]: https://en.wikipedia.org/wiki/Gillespie_algorithm\n",
    "[exponential distribution]: https://en.wikipedia.org/wiki/Exponential_distribution"
   ]
  },
  {
   "cell_type": "markdown",
   "metadata": {},
   "source": [
    "## Numerical Solution\n",
    "\n",
    "Let's implement the method we just described!"
   ]
  },
  {
   "cell_type": "code",
   "execution_count": 1,
   "metadata": {},
   "outputs": [],
   "source": [
    "import matplotlib.pyplot as plt\n",
    "import numpy as np"
   ]
  },
  {
   "cell_type": "markdown",
   "metadata": {},
   "source": [
    "### Gillespie's Algorithm\n",
    "\n",
    "For better readability, we define a dictionary mapping species names to their corresponding indices in the concentration and molecule count vectors."
   ]
  },
  {
   "cell_type": "code",
   "execution_count": 2,
   "metadata": {},
   "outputs": [],
   "source": [
    "IDX = {'A': 0, 'B': 1, 'C': 2, 'D': 3, 'E': 4}"
   ]
  },
  {
   "cell_type": "markdown",
   "metadata": {},
   "source": [
    "The implementation is done in `simulate_reactions` and closely follows the logic and notation presented in the Introduction section."
   ]
  },
  {
   "cell_type": "code",
   "execution_count": 3,
   "metadata": {},
   "outputs": [],
   "source": [
    "def simulate_reactions(C0: np.ndarray,\n",
    "                       k: np.ndarray,\n",
    "                       tend: float,\n",
    "                       XA0: int = 10**4,\n",
    "                       number_stored_states: int = 100\n",
    "                       ) -> dict[str, np.ndarray]:\n",
    "    \"\"\"Simulate reaction scheme using kinetic Monte Carlo.\n",
    "\n",
    "    Reaction scheme:\n",
    "    A + B -> C  , k[0]\n",
    "    C + B -> D  , k[1]\n",
    "    D + B -> E  , k[2]\n",
    "\n",
    "    C = [C_A, C_B, C_C, C_D, C_E]\n",
    "\n",
    "    Parameters\n",
    "    ----------\n",
    "    C0 : np.ndarray\n",
    "        Initial concentration vector (mol/L).\n",
    "    k : np.ndarray\n",
    "        Rate coefficients (L/(mol·s)).\n",
    "    tend : float\n",
    "        End simulation time (s).\n",
    "    XA0 : int\n",
    "        Initial number of A molecules.\n",
    "    number_stored_states : int\n",
    "        Number of state snapshots to store.\n",
    "\n",
    "    Returns\n",
    "    -------\n",
    "    dict[str, np.ndarray]\n",
    "        Time (s), numbers of molecules, molar concentrations (mol/L), and\n",
    "        volume (L) for each stored state.\n",
    "    \"\"\"\n",
    "\n",
    "    # Constants\n",
    "    NA = 6.022e23\n",
    "\n",
    "    # Initialize system state\n",
    "    t = 0.\n",
    "    X = XA0 / C0[IDX['A']] * C0\n",
    "    X = np.rint(X).astype(np.int64)\n",
    "    V = X[IDX['A']] / (C0[IDX['A']]*NA)\n",
    "\n",
    "    # Store initial state\n",
    "    stored_states = {'t': [t], 'X': [X.copy()], 'V': [V]}\n",
    "\n",
    "    # Start loop\n",
    "    while True:\n",
    "\n",
    "        # Rescale rate coefficients (all 2nd order)\n",
    "        k_mc = k/(NA*V)\n",
    "\n",
    "        # Evaluate reaction propensities\n",
    "        R = np.zeros_like(k_mc)\n",
    "        R[0] = k_mc[0] * X[IDX['A']] * X[IDX['B']]\n",
    "        R[1] = k_mc[1] * X[IDX['C']] * X[IDX['B']]\n",
    "        R[2] = k_mc[2] * X[IDX['D']] * X[IDX['B']]\n",
    "\n",
    "        # Select reaction\n",
    "        R_cumsum = np.cumsum(R)\n",
    "        R_sum = R_cumsum[-1]\n",
    "        rand_rxn = np.random.rand()*R_sum\n",
    "        idx_selected_rxn = np.searchsorted(R_cumsum, rand_rxn)\n",
    "\n",
    "        # Update number of molecules and volume change\n",
    "        if idx_selected_rxn == 0:\n",
    "            X[IDX['A']] -= 1\n",
    "            X[IDX['B']] -= 1\n",
    "            X[IDX['C']] += 1\n",
    "            ΔV = 0\n",
    "        elif idx_selected_rxn == 1:\n",
    "            X[IDX['C']] -= 1\n",
    "            X[IDX['B']] -= 1\n",
    "            X[IDX['D']] += 1\n",
    "            ΔV = 0\n",
    "        elif idx_selected_rxn == 2:\n",
    "            X[IDX['D']] -= 1\n",
    "            X[IDX['B']] -= 1\n",
    "            X[IDX['E']] += 1\n",
    "            ΔV = 0\n",
    "        else:\n",
    "            raise ValueError(\"Invalid reaction index.\")\n",
    "\n",
    "        # Update volume\n",
    "        V += ΔV\n",
    "\n",
    "        # Elapsed time\n",
    "        if R_sum > 0:\n",
    "            rand_tau = np.random.rand()\n",
    "            tau = (1/R_sum)*np.log(1/rand_tau)\n",
    "        else:\n",
    "            tau = tend - t\n",
    "        t += tau\n",
    "\n",
    "        #  Store state snapshot\n",
    "        if (t/tend*number_stored_states - 1 > len(stored_states['t'])):\n",
    "            stored_states['t'].append(t)\n",
    "            stored_states['X'].append(X.copy())\n",
    "            stored_states['V'].append(V)\n",
    "\n",
    "        # Stop if end time reached\n",
    "        if t >= tend:\n",
    "            break\n",
    "\n",
    "    # Convert to numpy arrays\n",
    "    stored_states['t'] = np.array(stored_states['t'])\n",
    "    stored_states['X'] = np.array(stored_states['X'])\n",
    "    stored_states['V'] = np.array(stored_states['V'])\n",
    "\n",
    "    # Compute molar species concentrations\n",
    "    stored_states['C'] = \\\n",
    "        stored_states['X']/(stored_states['V'][:, np.newaxis]*NA)\n",
    "\n",
    "    return stored_states"
   ]
  },
  {
   "cell_type": "markdown",
   "metadata": {},
   "source": [
    "### Input Parameters\n",
    "\n",
    "We make reasonable assumptions for the initial concentrations $C_0$ and rate coefficients $k$. Feel free to experiment with these values."
   ]
  },
  {
   "cell_type": "code",
   "execution_count": 4,
   "metadata": {},
   "outputs": [],
   "source": [
    "C0 = np.array([0.5, 1.065, 0.0, 0.0, 0.0])\n",
    "\n",
    "k = np.zeros(3)\n",
    "k[0] = 5e-3\n",
    "k[1] = k[0]/2\n",
    "k[2] = k[1]/2"
   ]
  },
  {
   "cell_type": "markdown",
   "metadata": {},
   "source": [
    "### Run Simulation\n",
    "\n",
    "Now, let's run the simulation and observe the reaction dynamics!"
   ]
  },
  {
   "cell_type": "code",
   "execution_count": 5,
   "metadata": {},
   "outputs": [],
   "source": [
    "stored_states = simulate_reactions(C0, k, tend=4e3, XA0=1_000)"
   ]
  },
  {
   "cell_type": "markdown",
   "metadata": {},
   "source": [
    "## Plots\n",
    "\n",
    "To visualize the simulation results, we plot the concentration of each species over time."
   ]
  },
  {
   "cell_type": "code",
   "execution_count": 6,
   "metadata": {},
   "outputs": [
    {
     "data": {
      "text/plain": [
       "<matplotlib.legend.Legend at 0x1eaa4287160>"
      ]
     },
     "execution_count": 6,
     "metadata": {},
     "output_type": "execute_result"
    },
    {
     "data": {
      "image/png": "[encoded data removed]",
      "text/plain": [
       "<Figure size 640x480 with 1 Axes>"
      ]
     },
     "metadata": {},
     "output_type": "display_data"
    }
   ],
   "source": [
    "fig, ax = plt.subplots()\n",
    "fig.suptitle(\"Species Concentrations\")\n",
    "fig.tight_layout()\n",
    "\n",
    "for name, idx in IDX.items():\n",
    "    ax.plot(stored_states['t'], stored_states['C'][:, idx], label=name)\n",
    "\n",
    "ax.set_xlabel(\"Time (s)\")\n",
    "ax.set_ylabel(\"Concentration (mol/L)\")\n",
    "ax.grid(True)\n",
    "ax.legend()"
   ]
  },
  {
   "cell_type": "markdown",
   "metadata": {},
   "source": [
    "## Questions/Extras\n",
    "\n",
    "1. How does the computational time scale with the initial number of molecules? Why? Is that a particular feature of this system or a general principle?\n",
    "2. What is the minimum value of `XA0` required to consistently simulate a system with $C_{A0}=1$ mol/L and $C_{E0}=10^{-5}$ mol/L?\n",
    "3. What are the broader implications of the requirements mentioned in question 2?\n",
    "4. Simulate the reaction network with a deterministic approach and compare the results. \n"
   ]
  }
 ],
 "metadata": {
  "kernelspec": {
   "display_name": ".venv",
   "language": "python",
   "name": "python3"
  },
  "language_info": {
   "codemirror_mode": {
    "name": "ipython",
    "version": 3
   },
   "file_extension": ".py",
   "mimetype": "text/x-python",
   "name": "python",
   "nbconvert_exporter": "python",
   "pygments_lexer": "ipython3",
   "version": "3.10.10"
  }
 },
 "nbformat": 4,
 "nbformat_minor": 2
}
